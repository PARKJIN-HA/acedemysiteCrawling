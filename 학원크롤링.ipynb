{
 "cells": [
  {
   "cell_type": "code",
   "execution_count": 12,
   "metadata": {},
   "outputs": [],
   "source": [
    "import pandas as pd\n",
    "import requests\n",
    "from bs4 import BeautifulSoup"
   ]
  },
  {
   "cell_type": "code",
   "execution_count": 13,
   "metadata": {},
   "outputs": [
    {
     "name": "stdout",
     "output_type": "stream",
     "text": [
      "행정구역명         735\n",
      "학원/교습소        735\n",
      "학원지정번호        735\n",
      "학원명           735\n",
      "도로명주소         735\n",
      "도로명상세주소       730\n",
      "분야명           735\n",
      "교습계열명         665\n",
      "교습과정목록명       523\n",
      "교습과정명         665\n",
      "정원합계          735\n",
      "일시수용능력인원합계    735\n",
      "인당수강료내용       133\n",
      "수강료공개여부       735\n",
      "기숙사학원여부       693\n",
      "도로명우편번호       735\n",
      "등록상태명         735\n",
      "등록일자          735\n",
      "휴원시작일자          7\n",
      "휴원종료일자        683\n",
      "개설일자          735\n",
      "적재일시          735\n",
      "dtype: int64\n"
     ]
    }
   ],
   "source": [
    "file_path='./서울시서대문구학원교습소정보.csv'\n",
    "df=pd.read_csv(file_path, encoding='cp949')\n",
    "print(df.count())"
   ]
  },
  {
   "cell_type": "code",
   "execution_count": 14,
   "metadata": {},
   "outputs": [
    {
     "name": "stdout",
     "output_type": "stream",
     "text": [
      "교습과정목록명    523\n",
      "교습과정명      665\n",
      "도로명주소      735\n",
      "분야명        735\n",
      "학원명        735\n",
      "교습계열명      665\n",
      "도로명상세주소    730\n",
      "dtype: int64\n"
     ]
    },
    {
     "name": "stderr",
     "output_type": "stream",
     "text": [
      "/var/folders/yd/62jlgl3n7m36d2t439vd8ttc0000gn/T/ipykernel_92014/2524708653.py:1: FutureWarning: Passing a set as an indexer is deprecated and will raise in a future version. Use a list instead.\n",
      "  information_adress_name=df[{'학원명','도로명주소','도로명상세주소','분야명','교습계열명','교습과정목록명','교습과정명'}]\n"
     ]
    }
   ],
   "source": [
    "information_adress_name=df[{'학원명','도로명주소','도로명상세주소','분야명','교습계열명','교습과정목록명','교습과정명'}]\n",
    "print(information_adress_name.count())"
   ]
  },
  {
   "cell_type": "code",
   "execution_count": 15,
   "metadata": {},
   "outputs": [
    {
     "name": "stdout",
     "output_type": "stream",
     "text": [
      "교습과정목록명    437\n",
      "교습과정명      589\n",
      "도로명주소      649\n",
      "분야명        649\n",
      "학원명        649\n",
      "교습계열명      589\n",
      "도로명상세주소    644\n",
      "dtype: int64\n"
     ]
    }
   ],
   "source": [
    "information_filtered=information_adress_name[~information_adress_name['교습과정목록명'].str.contains('초등',na=False)]\n",
    "print(information_filtered.count())"
   ]
  },
  {
   "cell_type": "code",
   "execution_count": 16,
   "metadata": {},
   "outputs": [
    {
     "name": "stdout",
     "output_type": "stream",
     "text": [
      "NE능률홍제영어학원\n"
     ]
    }
   ],
   "source": [
    "name = information_filtered['학원명'] [0]\n",
    "print(name)"
   ]
  },
  {
   "cell_type": "code",
   "execution_count": 17,
   "metadata": {},
   "outputs": [],
   "source": [
    "from selenium import webdriver\n",
    "from webdriver_manager.chrome import ChromeDriverManager\n",
    "from selenium.webdriver.common.by import By\n",
    "from selenium.webdriver.chrome.options import Options\n",
    "from selenium.webdriver.common.keys import Keys\n",
    "from selenium.webdriver.support.wait import WebDriverWait\n",
    "from selenium.webdriver.support import expected_conditions as EC\n",
    "import time"
   ]
  },
  {
   "cell_type": "code",
   "execution_count": 18,
   "metadata": {},
   "outputs": [],
   "source": [
    "\n",
    "\n",
    "chrome_options = Options()\n",
    "chrome_options.page_load_strategy = 'normal'\n",
    "driver = webdriver.Chrome(options=chrome_options)\n",
    "\n",
    "driver.get('https://map.kakao.com/')\n",
    "driver.implicitly_wait(10)\n",
    "driver.find_element(By.XPATH,\"/html/body/div[2]/div/div/form/fieldset/div[1]/input\").send_keys('서울시청')\n",
    "driver.find_element(By.XPATH,\"/html/body/div[10]/div\").click()\n",
    "search_button = WebDriverWait(driver, 10).until(\n",
    "    EC.element_to_be_clickable((By.XPATH,\"/html/body/div[2]/div/div/form/fieldset/div[1]/button\"))\n",
    ")\n",
    "search_button.click()\n",
    "\n",
    "for i in range(5):\n",
    "    driver.find_element(By.XPATH,\"/html/body/div[2]/div/div/form/fieldset/div[1]/input\").clear()\n",
    "    # key=information_filtered['도로명주소'][i]+' '+information_filtered['도로명상세주소'][i]\n",
    "    name = information_filtered['학원명'] [i]\n",
    "    driver.find_element(By.XPATH,\"/html/body/div[2]/div/div/form/fieldset/div[1]/input\").send_keys(name)\n",
    "    search_button.click()\n",
    "    # if(i==0) :\n",
    "        # driver.find_element(By.XPATH,\"/html/body/div[10]/div\").click()\n",
    "# 주소로찾으면 업체명이 안뜸 이말은 곧 업체명으로 검색해야함 홈페이지주소 긁어오는 것만 남음\n",
    "\n",
    "    \n",
    "time.sleep(1)\n",
    "time.sleep(5)\n",
    "\n",
    "driver.quit()\n",
    "\n",
    "\n"
   ]
  },
  {
   "cell_type": "code",
   "execution_count": null,
   "metadata": {},
   "outputs": [],
   "source": []
  }
 ],
 "metadata": {
  "kernelspec": {
   "display_name": "base",
   "language": "python",
   "name": "python3"
  },
  "language_info": {
   "codemirror_mode": {
    "name": "ipython",
    "version": 3
   },
   "file_extension": ".py",
   "mimetype": "text/x-python",
   "name": "python",
   "nbconvert_exporter": "python",
   "pygments_lexer": "ipython3",
   "version": "3.9.12"
  }
 },
 "nbformat": 4,
 "nbformat_minor": 2
}
